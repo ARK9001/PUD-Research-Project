{
 "cells": [
  {
   "cell_type": "code",
   "execution_count": null,
   "metadata": {},
   "outputs": [],
   "source": [
    "##-------------------------------------------------------------------------------------------##\n",
    "##---------------------------Older Code - May Be Useful--------------------------------------##\n",
    "##-------------------------------------------------------------------------------------------##\n",
    "\n",
    "#row_names = [((x[0]) if isinstance(x[0], (int,long)) else x[0]) for x in row_names_tupl] #to change to int or not?? printing each val yields reg format \n",
    "\n",
    "\n",
    "#conn.query(\"\"\"select name from test_table order by rand() limit 1;\"\"\")\n",
    "#r3 = conn.store_result()\n",
    "#random_val = r3.fetch_row(maxrows=0, how=0)\n",
    "#conn.commit()\n",
    "#print 'Random value: '\n",
    "#print random_val\n",
    "#print random_val[0]\n",
    "#rand_name = random_val[0][0]\n",
    "#print rand_name\n",
    "#print type(rand_name)\n",
    "#print 'done'\n",
    "\n",
    "#cursor = conn.cursor()\n",
    "#print cursor.description\n",
    "#num_fields = len(cursor.description)\n",
    "#field_names = [i[0] for i in cursor.description]\n",
    "#print field_names\n",
    "\n",
    "#conn.query(\"\"\"select id from test_table\"\"\")\n",
    "#r2 = conn.store_result()\n",
    "#row_names_tupl = r2.fetch_row(maxrows=0, how=0)\n",
    "#print row_names_tupl\n",
    "#row_names = [(int(x[0]) if isinstance(x[0], (int,long)) else x[0]) for x in row_names_tupl]\n",
    "#print 'ROW NAMES CONVERTED'\n",
    "#print row_names\n",
    "                       \n",
    "#port_in = raw_input(\"Type in DB port: \") \n",
    "# \n",
    "#print conn\n",
    "#csv.reader(file('Payment and Value of Care - Hospital.csv'))\n",
    "#hosp_dataframe.to_sql('hosp_table_py', conn, if_exists='replace')\n",
    "\n",
    "#---------\n",
    "#import pandas as pd\n",
    "#clean_signal = pd.DataFrame([[1,'apple'],[2,'cheese']], columns=list('AB')) \n",
    "#print(clean_signal)\n",
    "#import numpy as np \n",
    "#mu, sigma = 0, 0.1 \n",
    "## creating a noise with the same dimension as the dataset (2,2) \n",
    "#noise = np.random.normal(mu, sigma, [2,2]) \n",
    "#print(noise)\n",
    "##signal = clean_signal + noise\n",
    "##print(signal)\n",
    "\n",
    "#import pandas\n",
    "#df = pandas.read_csv('Payment and Value of Care - Hospital.csv')\n",
    "#print(df.dtypes)\n",
    "#---------\n"
   ]
  }
 ],
 "metadata": {
  "kernelspec": {
   "display_name": "Python 2",
   "language": "python",
   "name": "python2"
  },
  "language_info": {
   "codemirror_mode": {
    "name": "ipython",
    "version": 2
   },
   "file_extension": ".py",
   "mimetype": "text/x-python",
   "name": "python",
   "nbconvert_exporter": "python",
   "pygments_lexer": "ipython2",
   "version": "2.7.14"
  }
 },
 "nbformat": 4,
 "nbformat_minor": 2
}
